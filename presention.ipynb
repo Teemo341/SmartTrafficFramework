{
 "cells": [
  {
   "cell_type": "code",
   "execution_count": 65,
   "metadata": {},
   "outputs": [],
   "source": [
    "import torch\n",
    "from task1.test1 import define_model as model1\n",
    "import numpy as np"
   ]
  },
  {
   "cell_type": "code",
   "execution_count": 61,
   "metadata": {},
   "outputs": [],
   "source": [
    "cfg1 = {\n",
    "        \"vocab_size\": 180+1,\n",
    "        \"device\": \"cuda:0\",\n",
    "        \"block_size\": 122 //2,\n",
    "        \"n_embd\": 64,\n",
    "        \"n_head\": 4,\n",
    "        \"n_layer\": 2,\n",
    "        \"dropout\": 0.1,\n",
    "        \"n_hidden\": 64,\n",
    "        \"use_agent_mask\": True,\n",
    "        'model_save_path': \"weights/model_task1.pth\",\n",
    "        'ta_sliding_window':1,\n",
    "        'use_model':'sd',\n",
    "        'use_ne':True\n",
    "        }\n",
    "cfg2 = {\n",
    "    'device':'cuda',\n",
    "    'block_size':122 //2, # max length of trajectory\n",
    "    'n_embd':10,\n",
    "    'n_head':1,\n",
    "    'n_layer':1,\n",
    "    'dropout':0.1,\n",
    "    'n_hidden':10,\n",
    "    'n_embed_adj':10,\n",
    "    'vocab_size':100+1,\n",
    "    'window_size':2,\n",
    "    'max_iters':10,\n",
    "    'learning_rate':0.001,\n",
    "    'batch_size':1,\n",
    "    'model_save_path': \"weights/model_task2.pth\"\n",
    "    }\n",
    "\n",
    "cfg3 = {\n",
    "    'vocab_size':101,\n",
    "    'n_embd' : 64,\n",
    "    'n_head' : 4,\n",
    "    'n_layer' : 2,\n",
    "    'dropout' : 0.1,\n",
    "    'device' :\"cuda\",\n",
    "    \"block_size\":122 //2,\n",
    "    'weight_quantization_scale': 20,\n",
    "    'use_adj_table':True,\n",
    "    'learning_rate':0.001,\n",
    "    'max_epochs':100,\n",
    "    'observe_ratio':0.5,\n",
    "    'special_mask_value':0.0001,\n",
    "    'model_save_path': \"weights/model_task3.pth\"\n",
    "}"
   ]
  },
  {
   "cell_type": "code",
   "execution_count": 55,
   "metadata": {},
   "outputs": [],
   "source": [
    "task1_model_path = 'weights/model_task1.pth'"
   ]
  },
  {
   "cell_type": "code",
   "execution_count": 62,
   "metadata": {},
   "outputs": [
    {
     "name": "stdout",
     "output_type": "stream",
     "text": [
      "Model: self.time_weight/self.time_weight.mean()=tensor([1., 1., 1., 1., 1., 1., 1., 1., 1., 1., 1., 1., 1., 1., 1., 1., 1., 1.,\n",
      "        1., 1., 1., 1., 1., 1., 1., 1., 1., 1., 1., 1., 1., 1., 1., 1., 1., 1.,\n",
      "        1., 1., 1., 1., 1., 1., 1., 1., 1., 1., 1., 1., 1., 1., 1., 1., 1., 1.,\n",
      "        1., 1., 1., 1., 1., 1., 1.])\n"
     ]
    },
    {
     "data": {
      "text/plain": [
       "SpatialTemporalMultiAgentModel(\n",
       "  (encoder): EncoderHead(\n",
       "    (token_embedding_table): NormalizedEmbedding(\n",
       "      (embedding): Embedding(181, 64)\n",
       "    )\n",
       "    (position_embedding_table): Embedding(61, 64)\n",
       "    (in_proj): Sequential(\n",
       "      (0): Linear(in_features=64, out_features=64, bias=True)\n",
       "      (1): LayerNorm((64,), eps=1e-05, elementwise_affine=True)\n",
       "      (2): SiLU()\n",
       "    )\n",
       "    (condition_proj): Sequential(\n",
       "      (0): Linear(in_features=192, out_features=64, bias=True)\n",
       "      (1): LayerNorm((64,), eps=1e-05, elementwise_affine=True)\n",
       "      (2): SiLU()\n",
       "      (3): Linear(in_features=64, out_features=3, bias=True)\n",
       "    )\n",
       "  )\n",
       "  (blocks): ModuleList(\n",
       "    (0-1): 2 x SpatialTemporalBlock(\n",
       "      (ta): MultiHeadAttention(\n",
       "        (mha): MultiheadAttention(\n",
       "          (out_proj): NonDynamicallyQuantizableLinear(in_features=64, out_features=64, bias=False)\n",
       "        )\n",
       "      )\n",
       "      (ffwd): FeedFoward(\n",
       "        (net): Sequential(\n",
       "          (0): Linear(in_features=64, out_features=128, bias=True)\n",
       "          (1): SiLU()\n",
       "          (2): Linear(in_features=128, out_features=64, bias=True)\n",
       "          (3): Dropout(p=0.1, inplace=False)\n",
       "        )\n",
       "      )\n",
       "      (ln1): LayerNorm((64,), eps=1e-05, elementwise_affine=True)\n",
       "      (ln3): LayerNorm((64,), eps=1e-05, elementwise_affine=True)\n",
       "    )\n",
       "  )\n",
       "  (ln_f): LayerNorm((64,), eps=1e-05, elementwise_affine=True)\n",
       "  (lm_head): Linear(in_features=64, out_features=181, bias=True)\n",
       ")"
      ]
     },
     "execution_count": 62,
     "metadata": {},
     "output_type": "execute_result"
    }
   ],
   "source": [
    "task1_model = model1(cfg1)\n",
    "task1_model.load_state_dict(torch.load(task1_model_path))\n",
    "task1_model.eval()"
   ]
  },
  {
   "cell_type": "code",
   "execution_count": 63,
   "metadata": {},
   "outputs": [
    {
     "name": "stdout",
     "output_type": "stream",
     "text": [
      "Origin: 48 Destination: 170\n"
     ]
    }
   ],
   "source": [
    "o,d = np.random.choice(np.arange(1,181),2)\n",
    "print('Origin:',o,'Destination:',d)"
   ]
  },
  {
   "cell_type": "code",
   "execution_count": 64,
   "metadata": {},
   "outputs": [
    {
     "ename": "AttributeError",
     "evalue": "'SpatialTemporalMultiAgentModel' object has no attribute 'generate_traj'",
     "output_type": "error",
     "traceback": [
      "\u001b[0;31m---------------------------------------------------------------------------\u001b[0m",
      "\u001b[0;31mAttributeError\u001b[0m                            Traceback (most recent call last)",
      "Cell \u001b[0;32mIn[64], line 1\u001b[0m\n\u001b[0;32m----> 1\u001b[0m traj \u001b[38;5;241m=\u001b[39m \u001b[43mtask1_model\u001b[49m\u001b[38;5;241;43m.\u001b[39;49m\u001b[43mgenerate_traj\u001b[49m(o,d)\n",
      "File \u001b[0;32m~/anaconda3/envs/traffic/lib/python3.12/site-packages/torch/nn/modules/module.py:1709\u001b[0m, in \u001b[0;36mModule.__getattr__\u001b[0;34m(self, name)\u001b[0m\n\u001b[1;32m   1707\u001b[0m     \u001b[38;5;28;01mif\u001b[39;00m name \u001b[38;5;129;01min\u001b[39;00m modules:\n\u001b[1;32m   1708\u001b[0m         \u001b[38;5;28;01mreturn\u001b[39;00m modules[name]\n\u001b[0;32m-> 1709\u001b[0m \u001b[38;5;28;01mraise\u001b[39;00m \u001b[38;5;167;01mAttributeError\u001b[39;00m(\u001b[38;5;124mf\u001b[39m\u001b[38;5;124m\"\u001b[39m\u001b[38;5;124m'\u001b[39m\u001b[38;5;132;01m{\u001b[39;00m\u001b[38;5;28mtype\u001b[39m(\u001b[38;5;28mself\u001b[39m)\u001b[38;5;241m.\u001b[39m\u001b[38;5;18m__name__\u001b[39m\u001b[38;5;132;01m}\u001b[39;00m\u001b[38;5;124m'\u001b[39m\u001b[38;5;124m object has no attribute \u001b[39m\u001b[38;5;124m'\u001b[39m\u001b[38;5;132;01m{\u001b[39;00mname\u001b[38;5;132;01m}\u001b[39;00m\u001b[38;5;124m'\u001b[39m\u001b[38;5;124m\"\u001b[39m)\n",
      "\u001b[0;31mAttributeError\u001b[0m: 'SpatialTemporalMultiAgentModel' object has no attribute 'generate_traj'"
     ]
    }
   ],
   "source": [
    "traj = task1_model.generate_traj(o,d)"
   ]
  },
  {
   "cell_type": "code",
   "execution_count": 45,
   "metadata": {},
   "outputs": [],
   "source": [
    "\n",
    "top_10_values,top_10_indices = torch.topk(task1_output[0,0,0,:],10)"
   ]
  },
  {
   "cell_type": "code",
   "execution_count": 46,
   "metadata": {},
   "outputs": [
    {
     "name": "stdout",
     "output_type": "stream",
     "text": [
      "tensor([36.9776, 22.1486, 18.6211, 17.4208, 16.1031, 15.0057, 14.9232, 13.8469,\n",
      "        13.8040, 12.8046], device='cuda:0', grad_fn=<TopkBackward0>) tensor([ 45,  29,  43,  52, 169,  28,  32,  48,  30, 102], device='cuda:0')\n"
     ]
    }
   ],
   "source": [
    "print(top_10_values,top_10_indices)"
   ]
  },
  {
   "cell_type": "code",
   "execution_count": 42,
   "metadata": {},
   "outputs": [
    {
     "name": "stdout",
     "output_type": "stream",
     "text": [
      "tensor([44.2270, 28.6142, 24.9944, 24.5659, 17.8215, 17.5678, 16.2660, 15.4175,\n",
      "        15.3664, 14.9853], device='cuda:0', grad_fn=<TopkBackward0>) tensor([ 39,  42, 106,  41, 116,  60,   2,  58,  37,  23], device='cuda:0')\n"
     ]
    }
   ],
   "source": [
    "x['traj'][0,1,0] = top_10_indices[0]\n",
    "x['reagent_mask'][0,1,0] = 0\n",
    "task1_output,loss = task1_model(x)\n",
    "top_10_values,top_10_indices = torch.topk(task1_output[0,1,0,:],10)\n",
    "print(top_10_values,top_10_indices)"
   ]
  },
  {
   "cell_type": "code",
   "execution_count": null,
   "metadata": {},
   "outputs": [],
   "source": []
  },
  {
   "cell_type": "code",
   "execution_count": null,
   "metadata": {},
   "outputs": [],
   "source": []
  },
  {
   "cell_type": "code",
   "execution_count": null,
   "metadata": {},
   "outputs": [],
   "source": []
  },
  {
   "cell_type": "code",
   "execution_count": null,
   "metadata": {},
   "outputs": [],
   "source": []
  },
  {
   "cell_type": "code",
   "execution_count": null,
   "metadata": {},
   "outputs": [],
   "source": []
  }
 ],
 "metadata": {
  "kernelspec": {
   "display_name": "traffic",
   "language": "python",
   "name": "python3"
  },
  "language_info": {
   "codemirror_mode": {
    "name": "ipython",
    "version": 3
   },
   "file_extension": ".py",
   "mimetype": "text/x-python",
   "name": "python",
   "nbconvert_exporter": "python",
   "pygments_lexer": "ipython3",
   "version": "3.12.2"
  }
 },
 "nbformat": 4,
 "nbformat_minor": 2
}
